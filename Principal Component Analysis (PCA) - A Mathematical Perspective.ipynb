{
 "cells": [
  {
   "cell_type": "markdown",
   "metadata": {},
   "source": [
    "## Problem Statement: Reduce the dimensions of the given dataset using PCA \n"
   ]
  },
  {
   "attachments": {
    "image.png": {
     "image/png": "[encoded data removed]"
    }
   },
   "cell_type": "markdown",
   "metadata": {},
   "source": [
    "![image.png](attachment:image.png)"
   ]
  },
  {
   "cell_type": "code",
   "execution_count": 1,
   "metadata": {},
   "outputs": [],
   "source": [
    "#Importing required libraries\n",
    "import numpy as np"
   ]
  },
  {
   "cell_type": "code",
   "execution_count": 2,
   "metadata": {},
   "outputs": [
    {
     "data": {
      "text/plain": [
       "array([[2.5, 2.4],\n",
       "       [0.5, 0.7],\n",
       "       [2.2, 2.9],\n",
       "       [1.9, 2.2],\n",
       "       [3.1, 3. ],\n",
       "       [2.3, 2.7],\n",
       "       [2. , 1.6],\n",
       "       [1. , 1.1],\n",
       "       [1.5, 1.6],\n",
       "       [1.1, 0.9]])"
      ]
     },
     "execution_count": 2,
     "metadata": {},
     "output_type": "execute_result"
    }
   ],
   "source": [
    "X=np.array([[2.5, 2.4],\n",
    "       [0.5, 0.7],\n",
    "       [2.2, 2.9],\n",
    "       [1.9, 2.2],\n",
    "       [3.1, 3],\n",
    "       [2.3, 2.7],\n",
    "       [2, 1.6],\n",
    "       [1, 1.1],\n",
    "       [1.5, 1.6],\n",
    "       [1.1, 0.9]])\n",
    "X"
   ]
  },
  {
   "cell_type": "code",
   "execution_count": 6,
   "metadata": {},
   "outputs": [
    {
     "data": {
      "text/plain": [
       "(10, 2)"
      ]
     },
     "execution_count": 6,
     "metadata": {},
     "output_type": "execute_result"
    }
   ],
   "source": [
    "X.shape"
   ]
  },
  {
   "cell_type": "code",
   "execution_count": 5,
   "metadata": {},
   "outputs": [
    {
     "data": {
      "image/png": "[encoded data removed]",
      "text/plain": [
       "<Figure size 432x288 with 1 Axes>"
      ]
     },
     "metadata": {
      "needs_background": "light"
     },
     "output_type": "display_data"
    }
   ],
   "source": [
    "import matplotlib.pyplot as plt\n",
    "plt.scatter(X[:, 0], X[:, 1])\n",
    "plt.xlabel(\"x1\")\n",
    "plt.ylabel(\"x2\")\n",
    "plt.show()"
   ]
  },
  {
   "cell_type": "markdown",
   "metadata": {},
   "source": [
    "# Steps for dimensionality reduction using Principal Component Analysis(PCA)\n",
    "\n",
    "1. Standardize the data\n",
    "\n",
    "2. Compute the covariance matrix\n",
    "\n",
    "3. Calculate the eigenvectors and eigenvalues\n",
    "\n",
    "4. Sort eigenvalues in descending order and compute the Principal Components\n",
    "\n",
    "5. Reduce the dimensions of the data set"
   ]
  },
  {
   "cell_type": "markdown",
   "metadata": {},
   "source": [
    "### Step 1. Standardize the data"
   ]
  },
  {
   "cell_type": "code",
   "execution_count": 7,
   "metadata": {},
   "outputs": [
    {
     "data": {
      "text/plain": [
       "array([1.81, 1.91])"
      ]
     },
     "execution_count": 7,
     "metadata": {},
     "output_type": "execute_result"
    }
   ],
   "source": [
    "# mean  \n",
    "xbar=X.mean(axis=0)\n",
    "xbar"
   ]
  },
  {
   "cell_type": "code",
   "execution_count": 8,
   "metadata": {},
   "outputs": [
    {
     "data": {
      "text/plain": [
       "array([0.78521052, 0.84649605])"
      ]
     },
     "execution_count": 8,
     "metadata": {},
     "output_type": "execute_result"
    }
   ],
   "source": [
    "sigma=np.std(X,axis=0,ddof=1) #ddof=1 divides by N-1 for std\n",
    "sigma"
   ]
  },
  {
   "cell_type": "code",
   "execution_count": 9,
   "metadata": {},
   "outputs": [
    {
     "data": {
      "text/plain": [
       "array([[ 0.87874523,  0.57885681],\n",
       "       [-1.6683424 , -1.42942192],\n",
       "       [ 0.49668209,  1.16952702],\n",
       "       [ 0.11461894,  0.34258872],\n",
       "       [ 1.64287153,  1.28766107],\n",
       "       [ 0.62403647,  0.93325894],\n",
       "       [ 0.24197333, -0.36621553],\n",
       "       [-1.03157049, -0.95688575],\n",
       "       [-0.39479858, -0.36621553],\n",
       "       [-0.90421611, -1.19315383]])"
      ]
     },
     "execution_count": 9,
     "metadata": {},
     "output_type": "execute_result"
    }
   ],
   "source": [
    "# So the standard data is\n",
    "\n",
    "Z=(X-xbar)/sigma\n",
    "Z"
   ]
  },
  {
   "cell_type": "code",
   "execution_count": 10,
   "metadata": {},
   "outputs": [
    {
     "data": {
      "image/png": "[encoded data removed]",
      "text/plain": [
       "<Figure size 432x288 with 1 Axes>"
      ]
     },
     "metadata": {
      "needs_background": "light"
     },
     "output_type": "display_data"
    }
   ],
   "source": [
    "plt.scatter(Z[:,0], Z[:,1])\n",
    "plt.show()"
   ]
  },
  {
   "cell_type": "code",
   "execution_count": 11,
   "metadata": {},
   "outputs": [
    {
     "data": {
      "text/plain": [
       "array([-0.,  0.])"
      ]
     },
     "execution_count": 11,
     "metadata": {},
     "output_type": "execute_result"
    }
   ],
   "source": [
    "np.round(Z.mean(axis=0),2)"
   ]
  },
  {
   "cell_type": "code",
   "execution_count": 12,
   "metadata": {},
   "outputs": [
    {
     "data": {
      "text/plain": [
       "array([1., 1.])"
      ]
     },
     "execution_count": 12,
     "metadata": {},
     "output_type": "execute_result"
    }
   ],
   "source": [
    "Z.std(axis=0,ddof=1)"
   ]
  },
  {
   "cell_type": "markdown",
   "metadata": {},
   "source": [
    "### Step 2. Compute the covariance matrix"
   ]
  },
  {
   "cell_type": "code",
   "execution_count": 17,
   "metadata": {},
   "outputs": [
    {
     "data": {
      "text/plain": [
       "array([[0.61655556, 0.61544444],\n",
       "       [0.61544444, 0.71655556]])"
      ]
     },
     "execution_count": 17,
     "metadata": {},
     "output_type": "execute_result"
    }
   ],
   "source": [
    "cov_mat = np.cov(X,rowvar = False) #If rowvar is True (default), then each row represents a variable,with observations in the columns.\n",
    "#Otherwise, the relationship is transposed: each column represents a variable,while the rows contain observations.\n",
    "\n",
    "cov_mat"
   ]
  },
  {
   "cell_type": "markdown",
   "metadata": {},
   "source": [
    "### Step 3. Calculate the eigenvectors and eigenvalues"
   ]
  },
  {
   "cell_type": "code",
   "execution_count": 14,
   "metadata": {},
   "outputs": [],
   "source": [
    "#Calculating Eigenvalues and Eigenvectors of the covariance matrix\n",
    "eigen_values , eigen_vectors = np.linalg.eigh(cov_mat)"
   ]
  },
  {
   "cell_type": "code",
   "execution_count": 18,
   "metadata": {},
   "outputs": [
    {
     "data": {
      "text/plain": [
       "array([0.0490834 , 1.28402771])"
      ]
     },
     "execution_count": 18,
     "metadata": {},
     "output_type": "execute_result"
    }
   ],
   "source": [
    "eigen_values"
   ]
  },
  {
   "cell_type": "code",
   "execution_count": 19,
   "metadata": {},
   "outputs": [
    {
     "data": {
      "text/plain": [
       "array([[-0.73517866,  0.6778734 ],\n",
       "       [ 0.6778734 ,  0.73517866]])"
      ]
     },
     "execution_count": 19,
     "metadata": {},
     "output_type": "execute_result"
    }
   ],
   "source": [
    "eigen_vectors"
   ]
  },
  {
   "cell_type": "markdown",
   "metadata": {},
   "source": [
    "### Step 4. Sort eigenvalues in descending order and compute the Principal Components"
   ]
  },
  {
   "cell_type": "code",
   "execution_count": 20,
   "metadata": {},
   "outputs": [
    {
     "data": {
      "text/plain": [
       "array([1, 0], dtype=int64)"
      ]
     },
     "execution_count": 20,
     "metadata": {},
     "output_type": "execute_result"
    }
   ],
   "source": [
    "#sort the eigenvalues in descending order\n",
    "sorted_index = np.argsort(eigen_values)[::-1]\n",
    "sorted_index "
   ]
  },
  {
   "cell_type": "code",
   "execution_count": 21,
   "metadata": {},
   "outputs": [
    {
     "data": {
      "text/plain": [
       "array([[ 0.6778734 , -0.73517866],\n",
       "       [ 0.73517866,  0.6778734 ]])"
      ]
     },
     "execution_count": 21,
     "metadata": {},
     "output_type": "execute_result"
    }
   ],
   "source": [
    "#similarly sort the eigenvectors \n",
    "sorted_eigenvectors = eigen_vectors[:,sorted_index]\n",
    "sorted_eigenvectors"
   ]
  },
  {
   "cell_type": "code",
   "execution_count": 22,
   "metadata": {},
   "outputs": [
    {
     "data": {
      "text/plain": [
       "96.31813143486458"
      ]
     },
     "execution_count": 22,
     "metadata": {},
     "output_type": "execute_result"
    }
   ],
   "source": [
    "100*eigen_values[1]/sum(eigen_values)"
   ]
  },
  {
   "cell_type": "code",
   "execution_count": 23,
   "metadata": {},
   "outputs": [
    {
     "data": {
      "text/plain": [
       "array([[0.6778734 ],\n",
       "       [0.73517866]])"
      ]
     },
     "execution_count": 23,
     "metadata": {},
     "output_type": "execute_result"
    }
   ],
   "source": [
    "# select the first n eigenvectors, n is desired dimension\n",
    "# of our final reduced data.\n",
    " \n",
    "n_components = 1 #you can select any number of components.\n",
    "eigenvector_subset = sorted_eigenvectors[:,0:n_components]\n",
    "eigenvector_subset"
   ]
  },
  {
   "cell_type": "markdown",
   "metadata": {},
   "source": [
    "### Step 5. Reduce the dimensions of the data set"
   ]
  },
  {
   "cell_type": "code",
   "execution_count": 24,
   "metadata": {},
   "outputs": [
    {
     "data": {
      "text/plain": [
       "array([[3.45911227],\n",
       "       [0.85356176],\n",
       "       [3.62333958],\n",
       "       [2.9053525 ],\n",
       "       [4.3069435 ],\n",
       "       [3.54409119],\n",
       "       [2.53203265],\n",
       "       [1.48656992],\n",
       "       [2.19309595],\n",
       "       [1.40732153]])"
      ]
     },
     "execution_count": 24,
     "metadata": {},
     "output_type": "execute_result"
    }
   ],
   "source": [
    "#Transform the data \n",
    "transformed=np.matmul(X,eigenvector_subset)\n",
    "transformed"
   ]
  },
  {
   "cell_type": "markdown",
   "metadata": {},
   "source": [
    "### Let's reconstruct the original data and verify"
   ]
  },
  {
   "cell_type": "code",
   "execution_count": 25,
   "metadata": {},
   "outputs": [
    {
     "data": {
      "text/plain": [
       "array([[2.34484019, 2.54306551],\n",
       "       [0.57860681, 0.62752039],\n",
       "       [2.45616551, 2.66380192],\n",
       "       [1.96946117, 2.13595314],\n",
       "       [2.91956243, 3.16637293],\n",
       "       [2.40244514, 2.60554019],\n",
       "       [1.71639757, 1.86149636],\n",
       "       [1.0077062 , 1.09289447],\n",
       "       [1.4866414 , 1.61231733],\n",
       "       [0.95398583, 1.03463275]])"
      ]
     },
     "execution_count": 25,
     "metadata": {},
     "output_type": "execute_result"
    }
   ],
   "source": [
    "#reconstruct the original data and verify\n",
    "y=np.matmul(transformed,eigenvector_subset.transpose())\n",
    "y"
   ]
  },
  {
   "attachments": {
    "image.png": {
     "image/png": "[encoded data removed]"
    }
   },
   "cell_type": "markdown",
   "metadata": {},
   "source": [
    "![image.png](attachment:image.png)"
   ]
  },
  {
   "cell_type": "code",
   "execution_count": null,
   "metadata": {},
   "outputs": [],
   "source": []
  },
  {
   "cell_type": "code",
   "execution_count": null,
   "metadata": {},
   "outputs": [],
   "source": []
  },
  {
   "cell_type": "code",
   "execution_count": null,
   "metadata": {},
   "outputs": [],
   "source": []
  },
  {
   "cell_type": "code",
   "execution_count": null,
   "metadata": {},
   "outputs": [],
   "source": []
  },
  {
   "cell_type": "code",
   "execution_count": null,
   "metadata": {},
   "outputs": [],
   "source": []
  },
  {
   "cell_type": "code",
   "execution_count": null,
   "metadata": {},
   "outputs": [],
   "source": []
  },
  {
   "cell_type": "code",
   "execution_count": null,
   "metadata": {},
   "outputs": [],
   "source": []
  },
  {
   "cell_type": "code",
   "execution_count": null,
   "metadata": {},
   "outputs": [],
   "source": [
    "transformed=np.matmul(X-xbar,eigenvector_subset)\n",
    "transformed"
   ]
  },
  {
   "cell_type": "code",
   "execution_count": null,
   "metadata": {},
   "outputs": [],
   "source": [
    "#reconstruct the original data and verify\n",
    "y=np.matmul(transformed,eigenvector_subset.transpose())\n",
    "y"
   ]
  },
  {
   "cell_type": "code",
   "execution_count": null,
   "metadata": {},
   "outputs": [],
   "source": [
    "y1=y+ np.mean(X , axis = 0)\n",
    "y1"
   ]
  },
  {
   "cell_type": "code",
   "execution_count": null,
   "metadata": {},
   "outputs": [],
   "source": []
  }
 ],
 "metadata": {
  "kernelspec": {
   "display_name": "Python 3",
   "language": "python",
   "name": "python3"
  },
  "language_info": {
   "codemirror_mode": {
    "name": "ipython",
    "version": 3
   },
   "file_extension": ".py",
   "mimetype": "text/x-python",
   "name": "python",
   "nbconvert_exporter": "python",
   "pygments_lexer": "ipython3",
   "version": "3.7.4"
  }
 },
 "nbformat": 4,
 "nbformat_minor": 2
}
